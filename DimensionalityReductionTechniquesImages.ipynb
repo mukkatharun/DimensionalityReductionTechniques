{
  "nbformat": 4,
  "nbformat_minor": 0,
  "metadata": {
    "colab": {
      "name": "DimensionalityReductionTechniquesImages.ipynb",
      "provenance": [],
      "authorship_tag": "ABX9TyNukJFg2gLQAVZf5FDE2aRe",
      "include_colab_link": true
    },
    "kernelspec": {
      "name": "python3",
      "display_name": "Python 3"
    },
    "language_info": {
      "name": "python"
    }
  },
  "cells": [
    {
      "cell_type": "markdown",
      "metadata": {
        "id": "view-in-github",
        "colab_type": "text"
      },
      "source": [
        "<a href=\"https://colab.research.google.com/github/mukkatharun/DimensionalityReductionTechniques/blob/main/DimensionalityReductionTechniquesImages.ipynb\" target=\"_parent\"><img src=\"https://colab.research.google.com/assets/colab-badge.svg\" alt=\"Open In Colab\"/></a>"
      ]
    },
    {
      "cell_type": "markdown",
      "metadata": {
        "id": "sbuh816MTcem"
      },
      "source": [
        "**Dimensionality Reduction Techniques on Image dataset**"
      ]
    },
    {
      "cell_type": "code",
      "metadata": {
        "id": "OuAjrt4aTjGQ"
      },
      "source": [
        ""
      ],
      "execution_count": null,
      "outputs": []
    }
  ]
}