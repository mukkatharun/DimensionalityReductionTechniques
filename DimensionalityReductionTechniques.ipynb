{
  "nbformat": 4,
  "nbformat_minor": 0,
  "metadata": {
    "colab": {
      "name": "DimensionalityReductionTechniques.ipynb",
      "provenance": [],
      "authorship_tag": "ABX9TyOSzm4XZu2Lg1uY/yKDIBC3",
      "include_colab_link": true
    },
    "kernelspec": {
      "name": "python3",
      "display_name": "Python 3"
    },
    "language_info": {
      "name": "python"
    }
  },
  "cells": [
    {
      "cell_type": "markdown",
      "metadata": {
        "id": "view-in-github",
        "colab_type": "text"
      },
      "source": [
        "<a href=\"https://colab.research.google.com/github/mukkatharun/DimensionalityReductionTechniques/blob/main/DimensionalityReductionTechniques.ipynb\" target=\"_parent\"><img src=\"https://colab.research.google.com/assets/colab-badge.svg\" alt=\"Open In Colab\"/></a>"
      ]
    },
    {
      "cell_type": "code",
      "metadata": {
        "colab": {
          "base_uri": "https://localhost:8080/"
        },
        "id": "7_Z7T6wYAqjE",
        "outputId": "25ec1b0a-f841-44d4-94e0-23e89c2901b3"
      },
      "source": [
        "! pip install kaggle\n",
        "! mkdir ~/.kaggle\n",
        "! cp kaggle.json ~/.kaggle/\n",
        "! chmod 600 ~/.kaggle/kaggle.json\n",
        "! kaggle datasets download CooperUnion/cardataset\n",
        "! unzip cardataset.zip"
      ],
      "execution_count": 2,
      "outputs": [
        {
          "output_type": "stream",
          "name": "stdout",
          "text": [
            "Requirement already satisfied: kaggle in /usr/local/lib/python3.7/dist-packages (1.5.12)\n",
            "Requirement already satisfied: tqdm in /usr/local/lib/python3.7/dist-packages (from kaggle) (4.62.3)\n",
            "Requirement already satisfied: requests in /usr/local/lib/python3.7/dist-packages (from kaggle) (2.23.0)\n",
            "Requirement already satisfied: python-slugify in /usr/local/lib/python3.7/dist-packages (from kaggle) (5.0.2)\n",
            "Requirement already satisfied: python-dateutil in /usr/local/lib/python3.7/dist-packages (from kaggle) (2.8.2)\n",
            "Requirement already satisfied: certifi in /usr/local/lib/python3.7/dist-packages (from kaggle) (2021.5.30)\n",
            "Requirement already satisfied: six>=1.10 in /usr/local/lib/python3.7/dist-packages (from kaggle) (1.15.0)\n",
            "Requirement already satisfied: urllib3 in /usr/local/lib/python3.7/dist-packages (from kaggle) (1.24.3)\n",
            "Requirement already satisfied: text-unidecode>=1.3 in /usr/local/lib/python3.7/dist-packages (from python-slugify->kaggle) (1.3)\n",
            "Requirement already satisfied: idna<3,>=2.5 in /usr/local/lib/python3.7/dist-packages (from requests->kaggle) (2.10)\n",
            "Requirement already satisfied: chardet<4,>=3.0.2 in /usr/local/lib/python3.7/dist-packages (from requests->kaggle) (3.0.4)\n",
            "mkdir: cannot create directory ‘/root/.kaggle’: File exists\n",
            "Downloading cardataset.zip to /content\n",
            "  0% 0.00/103k [00:00<?, ?B/s]\n",
            "100% 103k/103k [00:00<00:00, 39.2MB/s]\n",
            "Archive:  cardataset.zip\n",
            "  inflating: data.csv                \n"
          ]
        }
      ]
    },
    {
      "cell_type": "code",
      "metadata": {
        "id": "vYPutJjzArPr"
      },
      "source": [
        "import pandas as pd\n",
        "import numpy as np\n",
        "import matplotlib.pyplot as plt\n",
        "import seaborn as sns\n",
        "%matplotlib inline\n",
        "import numpy as cov"
      ],
      "execution_count": 2,
      "outputs": []
    },
    {
      "cell_type": "code",
      "metadata": {
        "colab": {
          "base_uri": "https://localhost:8080/"
        },
        "id": "8eiHbnQduQYc",
        "outputId": "feea310f-7d63-4247-ae96-0c85247762e5"
      },
      "source": [
        "data = pd.read_csv('data.csv')\n",
        "data.head()"
      ],
      "execution_count": 4,
      "outputs": [
        {
          "output_type": "execute_result",
          "data": {
            "text/plain": [
              "<bound method NDFrame.head of           Make       Model  Year  ... city mpg  Popularity   MSRP\n",
              "0          BMW  1 Series M  2011  ...       19        3916  46135\n",
              "1          BMW    1 Series  2011  ...       19        3916  40650\n",
              "2          BMW    1 Series  2011  ...       20        3916  36350\n",
              "3          BMW    1 Series  2011  ...       18        3916  29450\n",
              "4          BMW    1 Series  2011  ...       18        3916  34500\n",
              "...        ...         ...   ...  ...      ...         ...    ...\n",
              "11909    Acura         ZDX  2012  ...       16         204  46120\n",
              "11910    Acura         ZDX  2012  ...       16         204  56670\n",
              "11911    Acura         ZDX  2012  ...       16         204  50620\n",
              "11912    Acura         ZDX  2013  ...       16         204  50920\n",
              "11913  Lincoln      Zephyr  2006  ...       17          61  28995\n",
              "\n",
              "[11914 rows x 16 columns]>"
            ]
          },
          "metadata": {},
          "execution_count": 4
        }
      ]
    },
    {
      "cell_type": "code",
      "metadata": {
        "colab": {
          "base_uri": "https://localhost:8080/"
        },
        "id": "cKdjdU5Vus0q",
        "outputId": "331eb3e5-ee2e-4e97-d02f-89b5a83f5554"
      },
      "source": [
        "data.info()"
      ],
      "execution_count": 5,
      "outputs": [
        {
          "output_type": "stream",
          "name": "stdout",
          "text": [
            "<class 'pandas.core.frame.DataFrame'>\n",
            "RangeIndex: 11914 entries, 0 to 11913\n",
            "Data columns (total 16 columns):\n",
            " #   Column             Non-Null Count  Dtype  \n",
            "---  ------             --------------  -----  \n",
            " 0   Make               11914 non-null  object \n",
            " 1   Model              11914 non-null  object \n",
            " 2   Year               11914 non-null  int64  \n",
            " 3   Engine Fuel Type   11911 non-null  object \n",
            " 4   Engine HP          11845 non-null  float64\n",
            " 5   Engine Cylinders   11884 non-null  float64\n",
            " 6   Transmission Type  11914 non-null  object \n",
            " 7   Driven_Wheels      11914 non-null  object \n",
            " 8   Number of Doors    11908 non-null  float64\n",
            " 9   Market Category    8172 non-null   object \n",
            " 10  Vehicle Size       11914 non-null  object \n",
            " 11  Vehicle Style      11914 non-null  object \n",
            " 12  highway MPG        11914 non-null  int64  \n",
            " 13  city mpg           11914 non-null  int64  \n",
            " 14  Popularity         11914 non-null  int64  \n",
            " 15  MSRP               11914 non-null  int64  \n",
            "dtypes: float64(3), int64(5), object(8)\n",
            "memory usage: 1.5+ MB\n"
          ]
        }
      ]
    },
    {
      "cell_type": "code",
      "metadata": {
        "colab": {
          "base_uri": "https://localhost:8080/"
        },
        "id": "kwk1MoQLvlcI",
        "outputId": "a51a95d6-512d-4494-cf22-ac01d272b901"
      },
      "source": [
        "\n",
        "data = data.drop([\"Number of Doors\", \"Market Category\", \"Vehicle Style\", \"Model\", \"Popularity\"], axis=1)\n",
        "data.shape"
      ],
      "execution_count": 6,
      "outputs": [
        {
          "output_type": "execute_result",
          "data": {
            "text/plain": [
              "(11914, 11)"
            ]
          },
          "metadata": {},
          "execution_count": 6
        }
      ]
    },
    {
      "cell_type": "code",
      "metadata": {
        "colab": {
          "base_uri": "https://localhost:8080/"
        },
        "id": "33ZlzZzOvooJ",
        "outputId": "24160daf-b479-4b00-b45c-a2951e3bfa1e"
      },
      "source": [
        "data.isna().sum()"
      ],
      "execution_count": 8,
      "outputs": [
        {
          "output_type": "execute_result",
          "data": {
            "text/plain": [
              "Make                  0\n",
              "Year                  0\n",
              "Engine Fuel Type      3\n",
              "Engine HP            69\n",
              "Engine Cylinders     30\n",
              "Transmission Type     0\n",
              "Driven_Wheels         0\n",
              "Vehicle Size          0\n",
              "highway MPG           0\n",
              "city mpg              0\n",
              "MSRP                  0\n",
              "dtype: int64"
            ]
          },
          "metadata": {},
          "execution_count": 8
        }
      ]
    },
    {
      "cell_type": "code",
      "metadata": {
        "id": "tGJQDp6vyutk"
      },
      "source": [
        "data = data.dropna()"
      ],
      "execution_count": 11,
      "outputs": []
    },
    {
      "cell_type": "code",
      "metadata": {
        "colab": {
          "base_uri": "https://localhost:8080/"
        },
        "id": "i4ZImcXj2P3N",
        "outputId": "b820e87a-8f80-44f2-a09d-312c46efc43c"
      },
      "source": [
        "data.info()"
      ],
      "execution_count": 13,
      "outputs": [
        {
          "output_type": "stream",
          "name": "stdout",
          "text": [
            "<class 'pandas.core.frame.DataFrame'>\n",
            "Int64Index: 11813 entries, 0 to 11913\n",
            "Data columns (total 11 columns):\n",
            " #   Column             Non-Null Count  Dtype  \n",
            "---  ------             --------------  -----  \n",
            " 0   Make               11813 non-null  object \n",
            " 1   Year               11813 non-null  int64  \n",
            " 2   Engine Fuel Type   11813 non-null  object \n",
            " 3   Engine HP          11813 non-null  float64\n",
            " 4   Engine Cylinders   11813 non-null  float64\n",
            " 5   Transmission Type  11813 non-null  object \n",
            " 6   Driven_Wheels      11813 non-null  object \n",
            " 7   Vehicle Size       11813 non-null  object \n",
            " 8   highway MPG        11813 non-null  int64  \n",
            " 9   city mpg           11813 non-null  int64  \n",
            " 10  MSRP               11813 non-null  int64  \n",
            "dtypes: float64(2), int64(4), object(5)\n",
            "memory usage: 1.1+ MB\n"
          ]
        }
      ]
    },
    {
      "cell_type": "code",
      "metadata": {
        "id": "IiEl5SmU3-Oh"
      },
      "source": [
        "data = data[data['highway MPG'] < 330]\n",
        "pcaData = data[['Engine HP', 'Engine Cylinders', 'highway MPG', 'city mpg']]"
      ],
      "execution_count": 19,
      "outputs": []
    },
    {
      "cell_type": "code",
      "metadata": {
        "colab": {
          "base_uri": "https://localhost:8080/",
          "height": 424
        },
        "id": "hWvzHTgJ4r8T",
        "outputId": "e365fe45-7f0e-4a7b-ae7a-24f8437163cf"
      },
      "source": [
        "pcaData"
      ],
      "execution_count": 20,
      "outputs": [
        {
          "output_type": "execute_result",
          "data": {
            "text/html": [
              "<div>\n",
              "<style scoped>\n",
              "    .dataframe tbody tr th:only-of-type {\n",
              "        vertical-align: middle;\n",
              "    }\n",
              "\n",
              "    .dataframe tbody tr th {\n",
              "        vertical-align: top;\n",
              "    }\n",
              "\n",
              "    .dataframe thead th {\n",
              "        text-align: right;\n",
              "    }\n",
              "</style>\n",
              "<table border=\"1\" class=\"dataframe\">\n",
              "  <thead>\n",
              "    <tr style=\"text-align: right;\">\n",
              "      <th></th>\n",
              "      <th>Engine HP</th>\n",
              "      <th>Engine Cylinders</th>\n",
              "      <th>highway MPG</th>\n",
              "      <th>city mpg</th>\n",
              "    </tr>\n",
              "  </thead>\n",
              "  <tbody>\n",
              "    <tr>\n",
              "      <th>0</th>\n",
              "      <td>335.0</td>\n",
              "      <td>6.0</td>\n",
              "      <td>26</td>\n",
              "      <td>19</td>\n",
              "    </tr>\n",
              "    <tr>\n",
              "      <th>1</th>\n",
              "      <td>300.0</td>\n",
              "      <td>6.0</td>\n",
              "      <td>28</td>\n",
              "      <td>19</td>\n",
              "    </tr>\n",
              "    <tr>\n",
              "      <th>2</th>\n",
              "      <td>300.0</td>\n",
              "      <td>6.0</td>\n",
              "      <td>28</td>\n",
              "      <td>20</td>\n",
              "    </tr>\n",
              "    <tr>\n",
              "      <th>3</th>\n",
              "      <td>230.0</td>\n",
              "      <td>6.0</td>\n",
              "      <td>28</td>\n",
              "      <td>18</td>\n",
              "    </tr>\n",
              "    <tr>\n",
              "      <th>4</th>\n",
              "      <td>230.0</td>\n",
              "      <td>6.0</td>\n",
              "      <td>28</td>\n",
              "      <td>18</td>\n",
              "    </tr>\n",
              "    <tr>\n",
              "      <th>...</th>\n",
              "      <td>...</td>\n",
              "      <td>...</td>\n",
              "      <td>...</td>\n",
              "      <td>...</td>\n",
              "    </tr>\n",
              "    <tr>\n",
              "      <th>11909</th>\n",
              "      <td>300.0</td>\n",
              "      <td>6.0</td>\n",
              "      <td>23</td>\n",
              "      <td>16</td>\n",
              "    </tr>\n",
              "    <tr>\n",
              "      <th>11910</th>\n",
              "      <td>300.0</td>\n",
              "      <td>6.0</td>\n",
              "      <td>23</td>\n",
              "      <td>16</td>\n",
              "    </tr>\n",
              "    <tr>\n",
              "      <th>11911</th>\n",
              "      <td>300.0</td>\n",
              "      <td>6.0</td>\n",
              "      <td>23</td>\n",
              "      <td>16</td>\n",
              "    </tr>\n",
              "    <tr>\n",
              "      <th>11912</th>\n",
              "      <td>300.0</td>\n",
              "      <td>6.0</td>\n",
              "      <td>23</td>\n",
              "      <td>16</td>\n",
              "    </tr>\n",
              "    <tr>\n",
              "      <th>11913</th>\n",
              "      <td>221.0</td>\n",
              "      <td>6.0</td>\n",
              "      <td>26</td>\n",
              "      <td>17</td>\n",
              "    </tr>\n",
              "  </tbody>\n",
              "</table>\n",
              "<p>11812 rows × 4 columns</p>\n",
              "</div>"
            ],
            "text/plain": [
              "       Engine HP  Engine Cylinders  highway MPG  city mpg\n",
              "0          335.0               6.0           26        19\n",
              "1          300.0               6.0           28        19\n",
              "2          300.0               6.0           28        20\n",
              "3          230.0               6.0           28        18\n",
              "4          230.0               6.0           28        18\n",
              "...          ...               ...          ...       ...\n",
              "11909      300.0               6.0           23        16\n",
              "11910      300.0               6.0           23        16\n",
              "11911      300.0               6.0           23        16\n",
              "11912      300.0               6.0           23        16\n",
              "11913      221.0               6.0           26        17\n",
              "\n",
              "[11812 rows x 4 columns]"
            ]
          },
          "metadata": {},
          "execution_count": 20
        }
      ]
    },
    {
      "cell_type": "code",
      "metadata": {
        "colab": {
          "base_uri": "https://localhost:8080/"
        },
        "id": "hukMTKFg45s2",
        "outputId": "c839acdd-6362-4241-9e54-b5d91e0175fc"
      },
      "source": [
        "from sklearn.preprocessing import StandardScaler\n",
        "scaler = StandardScaler()\n",
        "# transform data\n",
        "scaled = scaler.fit_transform(pcaData)\n",
        "scaled"
      ],
      "execution_count": 21,
      "outputs": [
        {
          "output_type": "execute_result",
          "data": {
            "text/plain": [
              "array([[ 0.78215259,  0.19965895, -0.04295239, -0.05009989],\n",
              "       [ 0.4618298 ,  0.19965895,  0.25091015, -0.05009989],\n",
              "       [ 0.4618298 ,  0.19965895,  0.25091015,  0.1030919 ],\n",
              "       ...,\n",
              "       [ 0.4618298 ,  0.19965895, -0.48374621, -0.50967523],\n",
              "       [ 0.4618298 ,  0.19965895, -0.48374621, -0.50967523],\n",
              "       [-0.26118448,  0.19965895, -0.04295239, -0.35648345]])"
            ]
          },
          "metadata": {},
          "execution_count": 21
        }
      ]
    },
    {
      "cell_type": "code",
      "metadata": {
        "colab": {
          "base_uri": "https://localhost:8080/"
        },
        "id": "1ts188OV5-i_",
        "outputId": "75e2df9b-9495-4170-86b6-bab151fae5b0"
      },
      "source": [
        "from sklearn.decomposition import PCA\n",
        "pca = PCA(1)\n",
        "# fit on data\n",
        "pca.fit(scaled)\n",
        "pca.fit_transform(scaled)"
      ],
      "execution_count": 44,
      "outputs": [
        {
          "output_type": "execute_result",
          "data": {
            "text/plain": [
              "array([[-0.4992832 ],\n",
              "       [-0.20438234],\n",
              "       [-0.12560081],\n",
              "       ...,\n",
              "       [-0.82193168],\n",
              "       [-0.82193168],\n",
              "       [-0.19296736]])"
            ]
          },
          "metadata": {},
          "execution_count": 44
        }
      ]
    },
    {
      "cell_type": "code",
      "metadata": {
        "colab": {
          "base_uri": "https://localhost:8080/"
        },
        "id": "-8Z3-6on7CqT",
        "outputId": "74a768c4-d529-47a1-c729-626b1cad65aa"
      },
      "source": [
        "# pca.fit(scaled)\n",
        "print(pca.components_)\n",
        "print(pca.explained_variance_)"
      ],
      "execution_count": 45,
      "outputs": [
        {
          "output_type": "stream",
          "name": "stdout",
          "text": [
            "[[-0.44461078 -0.51827122  0.51888849  0.51426738]]\n",
            "[2.97791837]\n"
          ]
        }
      ]
    },
    {
      "cell_type": "code",
      "metadata": {
        "colab": {
          "base_uri": "https://localhost:8080/"
        },
        "id": "psr0r2gK_QWu",
        "outputId": "3d0eaf7e-06ba-45a5-9ba4-0d2c58686146"
      },
      "source": [
        "principalComponents = pca.transform(scaled)\n",
        "principalDf = pd.DataFrame(data = principalComponents\n",
        "             , columns = ['principal component 1'])\n",
        "principalDf['principal component 1']"
      ],
      "execution_count": 47,
      "outputs": [
        {
          "output_type": "execute_result",
          "data": {
            "text/plain": [
              "0       -0.499283\n",
              "1       -0.204382\n",
              "2       -0.125601\n",
              "3        0.001674\n",
              "4        0.001674\n",
              "           ...   \n",
              "11807   -0.821932\n",
              "11808   -0.821932\n",
              "11809   -0.821932\n",
              "11810   -0.821932\n",
              "11811   -0.192967\n",
              "Name: principal component 1, Length: 11812, dtype: float64"
            ]
          },
          "metadata": {},
          "execution_count": 47
        }
      ]
    },
    {
      "cell_type": "code",
      "metadata": {
        "id": "zmbJk02S72Ow"
      },
      "source": [
        ""
      ],
      "execution_count": null,
      "outputs": []
    }
  ]
}